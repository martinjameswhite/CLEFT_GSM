{
 "cells": [
  {
   "cell_type": "code",
   "execution_count": 1,
   "metadata": {
    "collapsed": true
   },
   "outputs": [],
   "source": [
    "import numpy as np\n",
    "import matplotlib.pyplot as plt\n",
    "%matplotlib inline\n",
    "from scipy.interpolate import InterpolatedUnivariateSpline as interpolate\n",
    "import importlib"
   ]
  },
  {
   "cell_type": "code",
   "execution_count": 4,
   "metadata": {
    "collapsed": false
   },
   "outputs": [],
   "source": [
    "import cleft\n"
   ]
  },
  {
   "cell_type": "code",
   "execution_count": 5,
   "metadata": {
    "collapsed": false
   },
   "outputs": [
    {
     "data": {
      "text/plain": [
       "<module 'cleft' from '/global/u1/c/chmodi/Programs/Py_codes/Ipython/Lensing/cmbcross/python/PT/cleft.py'>"
      ]
     },
     "execution_count": 5,
     "metadata": {},
     "output_type": "execute_result"
    }
   ],
   "source": [
    "importlib.reload(cleft)"
   ]
  },
  {
   "cell_type": "code",
   "execution_count": 15,
   "metadata": {
    "collapsed": true
   },
   "outputs": [],
   "source": [
    "pfile = './pklin_RunPB.txt'\n",
    "qfile = './qfile_RunPB.txt'\n",
    "rfile = './rfile_RunPB.txt'\n",
    "zvfile = './ps00_hh_RunPB_46_z000.dat'\n",
    "zv = np.loadtxt(zvfile).T"
   ]
  },
  {
   "cell_type": "code",
   "execution_count": 7,
   "metadata": {
    "collapsed": false
   },
   "outputs": [
    {
     "name": "stdout",
     "output_type": "stream",
     "text": [
      "Q & R kernels created\n"
     ]
    },
    {
     "name": "stderr",
     "output_type": "stream",
     "text": [
      "/anaconda3/lib/python3.6/site-packages/scipy/integrate/quadpack.py:356: IntegrationWarning: The occurrence of roundoff error is detected, which prevents \n",
      "  the requested tolerance from being achieved.  The error may be \n",
      "  underestimated.\n",
      "  warnings.warn(msg, IntegrationWarning)\n"
     ]
    },
    {
     "name": "stdout",
     "output_type": "stream",
     "text": [
      "Matter q-functions created\n",
      "Bias(local) q-functions created\n",
      "Shear q-functions created\n"
     ]
    }
   ],
   "source": [
    "cl = cleft.CLEFT(pfile = pfile, qfile=qfile, rfile=rfile)"
   ]
  },
  {
   "cell_type": "code",
   "execution_count": 8,
   "metadata": {
    "collapsed": false
   },
   "outputs": [],
   "source": [
    "# pktable = cl.make_table(kmin = 1e-3, kmax = 1, nk = 20)\n",
    "cl.make_table(nk = 20)\n"
   ]
  },
  {
   "cell_type": "code",
   "execution_count": 10,
   "metadata": {
    "collapsed": false
   },
   "outputs": [],
   "source": [
    "pk = cl.pktable.copy().T"
   ]
  },
  {
   "cell_type": "markdown",
   "metadata": {},
   "source": [
    " k, ZA, A, W, b1, b1^2, b2, b2^2, b1b2, bs2, b1bs2, b2bs2, bs2^2, bn, b1bn                                                                                  \n",
    "#bn and b1bn are not implemented yet "
   ]
  },
  {
   "cell_type": "raw",
   "metadata": {},
   "source": [
    "col = 2\n",
    "plt.plot(pk[0], pk[col], \"bo\", ms = 3)\n",
    "plt.plot(pk[0], -pk[col], \"bx\", ms = 4)\n",
    "plt.plot(zv[0], zv[col], 'orange', ls = \"-\")\n",
    "plt.plot(zv[0], -zv[col], 'orange', ls = \"--\")\n",
    "plt.loglog()\n",
    "# plt.xscale('log')\n",
    "plt.ylim(0.1, 1e5)"
   ]
  },
  {
   "cell_type": "code",
   "execution_count": 34,
   "metadata": {
    "collapsed": false
   },
   "outputs": [
    {
     "data": {
      "text/plain": [
       "(0.8, 1.2)"
      ]
     },
     "execution_count": 34,
     "metadata": {},
     "output_type": "execute_result"
    },
    {
     "data": {
      "image/png": "[encoded data removed]",
      "text/plain": [
       "<matplotlib.figure.Figure at 0x7fcce83a5438>"
      ]
     },
     "metadata": {},
     "output_type": "display_data"
    }
   ],
   "source": [
    "col = 2\n",
    "plt.plot(pk[0], pk[col]/interpolate(zv[0], zv[col])(pk[0]), \"bo\", ms = 3)\n",
    "plt.axhline(1, color = 'k', lw = 0.5)\n",
    "plt.xscale('log')\n",
    "plt.ylim(0.8, 1.2)"
   ]
  }
 ],
 "metadata": {
  "kernelspec": {
   "display_name": "Python 3",
   "language": "python",
   "name": "python3"
  },
  "language_info": {
   "codemirror_mode": {
    "name": "ipython",
    "version": 3
   },
   "file_extension": ".py",
   "mimetype": "text/x-python",
   "name": "python",
   "nbconvert_exporter": "python",
   "pygments_lexer": "ipython3",
   "version": "3.6.0"
  }
 },
 "nbformat": 4,
 "nbformat_minor": 2
}
